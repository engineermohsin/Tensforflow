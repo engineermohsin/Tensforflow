{
 "cells": [
  {
   "cell_type": "code",
   "execution_count": 8,
   "metadata": {},
   "outputs": [
    {
     "name": "stdout",
     "output_type": "stream",
     "text": [
      "Asim age is 27 \n",
      "Asim city name :Multan\n",
      "Family member name is  Muhammad Mohsin\n",
      "great\n"
     ]
    }
   ],
   "source": [
    "class Family:\n",
    "    def __init__(self, name, age, city):\n",
    "        self.name=name\n",
    "        self.age=age\n",
    "        self.city=city\n",
    "    def membors(self):\n",
    "        print(\"Family member name is \", self.name)\n",
    "        print('great')\n",
    "class Mohsin(Family):\n",
    "    def __init__(self, name, age, city, job):\n",
    "        super().__init__(name,age,city)\n",
    "        self.job=job\n",
    "    def asim(self):\n",
    "        print(f'Asim age is {self.age} ')\n",
    "        print(f'Asim city name :{self.city}')\n",
    "ob= Mohsin('Muhammad Mohsin', 27, 'Multan', 'doctor')\n",
    "\n",
    "ob.asim()\n",
    "ob.membors()\n"
   ]
  },
  {
   "cell_type": "code",
   "execution_count": 2,
   "metadata": {},
   "outputs": [
    {
     "ename": "NameError",
     "evalue": "name 'Person' is not defined",
     "output_type": "error",
     "traceback": [
      "\u001b[1;31m---------------------------------------------------------------------------\u001b[0m",
      "\u001b[1;31mNameError\u001b[0m                                 Traceback (most recent call last)",
      "\u001b[1;32md:\\Study\\Frameworks\\Tensforflow\\openCV.ipynb Cell 2\u001b[0m in \u001b[0;36m<cell line: 1>\u001b[1;34m()\u001b[0m\n\u001b[1;32m----> <a href='vscode-notebook-cell:/d%3A/Study/Frameworks/Tensforflow/openCV.ipynb#W1sZmlsZQ%3D%3D?line=0'>1</a>\u001b[0m \u001b[39mclass\u001b[39;00m \u001b[39mStudent\u001b[39;00m(Person):\n\u001b[0;32m      <a href='vscode-notebook-cell:/d%3A/Study/Frameworks/Tensforflow/openCV.ipynb#W1sZmlsZQ%3D%3D?line=1'>2</a>\u001b[0m     \u001b[39mdef\u001b[39;00m \u001b[39m__init__\u001b[39m(\u001b[39mself\u001b[39m, name, age, student_id):\n\u001b[0;32m      <a href='vscode-notebook-cell:/d%3A/Study/Frameworks/Tensforflow/openCV.ipynb#W1sZmlsZQ%3D%3D?line=2'>3</a>\u001b[0m         \u001b[39msuper\u001b[39m()\u001b[39m.\u001b[39m\u001b[39m__init__\u001b[39m(name, age)\n",
      "\u001b[1;31mNameError\u001b[0m: name 'Person' is not defined"
     ]
    }
   ],
   "source": [
    "class Student(Person):\n",
    "    def __init__(self, name, age, student_id):\n",
    "        super().__init__(name, age)\n",
    "        self.student_id = student_id\n",
    "\n",
    "    def study(self, subject):\n",
    "        print(f\"{self.name} is studying {subject}.\")\n",
    "\n",
    "student = Student(\"Eve\", 21, \"12345\")\n",
    "print(student.student_id)   # Output: 12345\n",
    "student.greet()             # Output: Hello, my name is Eve and I am 21 years old.\n",
    "student.study(\"Math\")       # Output: Eve is studying Math.\n"
   ]
  }
 ],
 "metadata": {
  "kernelspec": {
   "display_name": "Python 3",
   "language": "python",
   "name": "python3"
  },
  "language_info": {
   "codemirror_mode": {
    "name": "ipython",
    "version": 3
   },
   "file_extension": ".py",
   "mimetype": "text/x-python",
   "name": "python",
   "nbconvert_exporter": "python",
   "pygments_lexer": "ipython3",
   "version": "3.10.0"
  },
  "orig_nbformat": 4
 },
 "nbformat": 4,
 "nbformat_minor": 2
}
