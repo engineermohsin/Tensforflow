{
 "cells": [
  {
   "cell_type": "code",
   "execution_count": 1,
   "metadata": {},
   "outputs": [
    {
     "name": "stdout",
     "output_type": "stream",
     "text": [
      "Asim age is 27 \n",
      "Asim city name :Multan\n",
      "Family member name is  Muhammad Mohsin\n",
      "great\n"
     ]
    }
   ],
   "source": [
    "class Family:\n",
    "    def __init__(self, name, age, city):\n",
    "        self.name=name\n",
    "        self.age=age\n",
    "        self.city=city\n",
    "    def membors(self):\n",
    "        print(\"Family member name is \", self.name)\n",
    "        print('great')\n",
    "class Mohsin(Family):\n",
    "    def __init__(self, name, age, city, job):\n",
    "        super().__init__(name,age,city)\n",
    "        self.job=job\n",
    "    def asim(self):\n",
    "        print(f'Asim age is {self.age} ')\n",
    "        print(f'Asim city name :{self.city}')\n",
    "ob= Mohsin('Muhammad Mohsin', 27, 'Multan', 'doctor')\n",
    "\n",
    "ob.asim()\n",
    "ob.membors()\n"
   ]
  }
 ],
 "metadata": {
  "kernelspec": {
   "display_name": "Python 3",
   "language": "python",
   "name": "python3"
  },
  "language_info": {
   "codemirror_mode": {
    "name": "ipython",
    "version": 3
   },
   "file_extension": ".py",
   "mimetype": "text/x-python",
   "name": "python",
   "nbconvert_exporter": "python",
   "pygments_lexer": "ipython3",
   "version": "3.10.0"
  },
  "orig_nbformat": 4
 },
 "nbformat": 4,
 "nbformat_minor": 2
}
